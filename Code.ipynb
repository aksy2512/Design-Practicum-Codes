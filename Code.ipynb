{
  "cells": [
    {
      "cell_type": "code",
      "execution_count": 1,
      "metadata": {
        "id": "PWq_t4bOtTJm"
      },
      "outputs": [],
      "source": [
        "\n",
        "import os\n",
        "import cv2\n",
        "import random\n",
        "import matplotlib.pyplot as plt\n",
        "import pickle\n",
        "import numpy as np\n",
        "import pandas as pd\n",
        "from tensorflow.keras.preprocessing.image import ImageDataGenerator,load_img\n"
      ]
    },
    {
      "cell_type": "code",
      "execution_count": 2,
      "metadata": {
        "id": "9HA5LiBJtYlW"
      },
      "outputs": [],
      "source": [
        "train_data_dir = 'train_2'\n",
        "Categories = ['freshapples', 'rottenapples']"
      ]
    },
    {
      "cell_type": "code",
      "execution_count": 3,
      "metadata": {
        "id": "mDrM91b61vuM"
      },
      "outputs": [],
      "source": [
        "IMG_SIZE = 224\n",
        "batch_size = 32\n",
        "data = []\n",
        "for category in Categories:\n",
        "  folder = os.path.join(train_data_dir,category)\n",
        "  label = Categories.index(category)\n",
        "  for img in os.listdir(folder):\n",
        "    img_path = os.path.join(folder,img)\n",
        "    img_arr = cv2.imread(img_path)\n",
        "    img_arr = cv2.resize(img_arr,(IMG_SIZE,IMG_SIZE))\n",
        "    data.append([img_arr,label])\n",
        "    "
      ]
    },
    {
      "cell_type": "code",
      "execution_count": 4,
      "metadata": {
        "id": "jiywICqw1xkk"
      },
      "outputs": [],
      "source": [
        "random.shuffle(data)"
      ]
    },
    {
      "cell_type": "code",
      "execution_count": 5,
      "metadata": {
        "colab": {
          "base_uri": "https://localhost:8080/"
        },
        "id": "62SxduVz2NHh",
        "outputId": "6e63cbb6-49a5-48fd-d4b8-ef020b9fc6bf"
      },
      "outputs": [
        {
          "name": "stdout",
          "output_type": "stream",
          "text": [
            "Found 3229 images belonging to 2 classes.\n",
            "Found 806 images belonging to 2 classes.\n"
          ]
        }
      ],
      "source": [
        "train_datagen = ImageDataGenerator(rescale=1./255,\n",
        "    shear_range=0.2,\n",
        "    zoom_range=0.2,\n",
        "    horizontal_flip=True,\n",
        "    validation_split=0.2) # set validation split\n",
        "\n",
        "train_generator = train_datagen.flow_from_directory(\n",
        "    train_data_dir,\n",
        "    target_size=(224, 224),\n",
        "    batch_size=batch_size,\n",
        "    class_mode='binary',\n",
        "    shuffle = True,\n",
        "    subset='training') # set as training data\n",
        "\n",
        "validation_generator = train_datagen.flow_from_directory(\n",
        "    train_data_dir, # same directory as training data\n",
        "    target_size=(224, 224),\n",
        "    batch_size=batch_size,\n",
        "    class_mode='binary',\n",
        "    shuffle = True,\n",
        "    subset='validation') # set as validation data"
      ]
    },
    {
      "cell_type": "code",
      "execution_count": 6,
      "metadata": {
        "colab": {
          "base_uri": "https://localhost:8080/"
        },
        "id": "ukDeMM8L2Qdv",
        "outputId": "25d2eb76-3e6d-4e2a-85ca-9d609c4d4e0d"
      },
      "outputs": [
        {
          "data": {
            "text/plain": [
              "<keras.preprocessing.image.DirectoryIterator at 0x260710501c0>"
            ]
          },
          "execution_count": 6,
          "metadata": {},
          "output_type": "execute_result"
        }
      ],
      "source": [
        "train_generator"
      ]
    },
    {
      "cell_type": "code",
      "execution_count": 7,
      "metadata": {
        "id": "Mhdz4DB_4VD8"
      },
      "outputs": [],
      "source": [
        "feature = []\n",
        "label = []\n",
        "\n",
        "for features,labels in data:\n",
        "  feature.append(features)\n",
        "  label.append(labels)"
      ]
    },
    {
      "cell_type": "code",
      "execution_count": 8,
      "metadata": {
        "id": "tCEb-TcJ5UzZ"
      },
      "outputs": [],
      "source": [
        "feature = np.array(feature)\n",
        "label = np.array(label)"
      ]
    },
    {
      "cell_type": "code",
      "execution_count": 9,
      "metadata": {
        "id": "5FuHdkzG5bPC"
      },
      "outputs": [],
      "source": [
        "feature = feature.astype('float')\n",
        "feature = feature/255"
      ]
    },
    {
      "cell_type": "code",
      "execution_count": null,
      "metadata": {
        "colab": {
          "base_uri": "https://localhost:8080/"
        },
        "id": "BmlU_ilW5psU",
        "outputId": "4a1f6324-9e7c-40bd-df8f-3570fd6ba34b"
      },
      "outputs": [
        {
          "data": {
            "text/plain": [
              "(4035, 224, 224, 3)"
            ]
          },
          "execution_count": 11,
          "metadata": {},
          "output_type": "execute_result"
        }
      ],
      "source": [
        "feature.shape"
      ]
    },
    {
      "cell_type": "code",
      "execution_count": null,
      "metadata": {
        "id": "8BeyLqDg2T1E"
      },
      "outputs": [],
      "source": [
        "from keras.models import Sequential, Model\n",
        "from keras.layers import Conv2D, MaxPooling2D, Flatten, Dense, BatchNormalization, GlobalAveragePooling2D\n",
        "from tensorflow.keras.applications.resnet50 import preprocess_input, decode_predictions\n",
        "from tensorflow.keras.applications.resnet50 import ResNet50"
      ]
    },
    {
      "cell_type": "code",
      "execution_count": null,
      "metadata": {
        "id": "IpmivtzO2WU2"
      },
      "outputs": [],
      "source": [
        "model = Sequential()\n",
        "\n",
        "model.add(Conv2D(64,(3,3),activation = 'relu'))\n",
        "model.add(MaxPooling2D((2,2)))\n",
        "\n",
        "model.add(Conv2D(64,(3,3),activation = 'relu'))\n",
        "model.add(MaxPooling2D((2,2)))\n",
        "\n",
        "model.add(Conv2D(128,(3,3),activation = 'relu'))\n",
        "model.add(MaxPooling2D((2,2)))\n",
        "\n",
        "model.add(Conv2D(256,(3,3),activation = 'relu'))\n",
        "model.add(MaxPooling2D((2,2)))\n",
        "\n",
        "model.add(Flatten())\n",
        "\n",
        "model.add(Dense(128, input_shape = feature.shape[1:], activation = 'relu'))\n",
        "\n",
        "\n",
        "model.add(Dense(2, activation='softmax'))\n",
        "\n",
        "model = Sequential()\n",
        "\n",
        "model.add(Conv2D(32,(3,3),activation = 'relu',padding='same',))\n",
        "model.add(MaxPooling2D(pool_size=(2,2)))\n",
        "# model.add(Dropout(0.2))\n",
        "\n",
        "model.add(Conv2D(64, (3, 3), activation='relu', padding='same'))\n",
        "model.add(MaxPooling2D((2, 2)))\n",
        "# model.add(Dropout(0.2))\n",
        "\n",
        "model.add(Conv2D(128, (3, 3), activation='relu', padding='same'))\n",
        "model.add(MaxPooling2D((2, 2)))\n",
        "# model.add(Dropout(0.2))\n",
        "\n",
        "model.add(Flatten())\n",
        "\n",
        "model.add(Dense(128, input_shape = feature.shape[1:], activation = 'relu'))\n",
        "# model.add(Dropout(0.5))\n",
        "model.add(Dense(2, activation='softmax'))"
      ]
    },
    {
      "cell_type": "code",
      "execution_count": null,
      "metadata": {
        "id": "jJ3ohTvJ2dpt"
      },
      "outputs": [],
      "source": [
        "model.compile(optimizer = 'adam',loss = 'sparse_categorical_crossentropy',metrics = ['accuracy'])"
      ]
    },
    {
      "cell_type": "code",
      "execution_count": null,
      "metadata": {
        "colab": {
          "base_uri": "https://localhost:8080/"
        },
        "id": "DtogWBnG6BD8",
        "outputId": "6205b6e6-e1b2-4efa-bd5e-a6a482c8d27e"
      },
      "outputs": [
        {
          "name": "stdout",
          "output_type": "stream",
          "text": [
            "Epoch 1/8\n",
            "114/114 [==============================] - 22s 76ms/step - loss: 0.4868 - accuracy: 0.8009 - val_loss: 0.2130 - val_accuracy: 0.9109\n",
            "Epoch 2/8\n",
            "114/114 [==============================] - 7s 61ms/step - loss: 0.2204 - accuracy: 0.9163 - val_loss: 0.3672 - val_accuracy: 0.8441\n",
            "Epoch 3/8\n",
            "114/114 [==============================] - 7s 61ms/step - loss: 0.2227 - accuracy: 0.9099 - val_loss: 0.1757 - val_accuracy: 0.9455\n",
            "Epoch 4/8\n",
            "114/114 [==============================] - 7s 61ms/step - loss: 0.1609 - accuracy: 0.9378 - val_loss: 0.1517 - val_accuracy: 0.9455\n",
            "Epoch 5/8\n",
            "114/114 [==============================] - 7s 61ms/step - loss: 0.1805 - accuracy: 0.9298 - val_loss: 0.2585 - val_accuracy: 0.9233\n",
            "Epoch 6/8\n",
            "114/114 [==============================] - 7s 61ms/step - loss: 0.1265 - accuracy: 0.9513 - val_loss: 0.1410 - val_accuracy: 0.9505\n",
            "Epoch 7/8\n",
            "114/114 [==============================] - 7s 61ms/step - loss: 0.0923 - accuracy: 0.9692 - val_loss: 0.2373 - val_accuracy: 0.9431\n",
            "Epoch 8/8\n",
            "114/114 [==============================] - 7s 61ms/step - loss: 0.0880 - accuracy: 0.9661 - val_loss: 0.1082 - val_accuracy: 0.9629\n"
          ]
        },
        {
          "data": {
            "text/plain": [
              "<keras.callbacks.History at 0x7ff87ee6c050>"
            ]
          },
          "execution_count": 15,
          "metadata": {},
          "output_type": "execute_result"
        }
      ],
      "source": [
        "model.fit(feature, label, epochs=8, validation_split=0.1)"
      ]
    },
    {
      "cell_type": "code",
      "execution_count": null,
      "metadata": {
        "colab": {
          "base_uri": "https://localhost:8080/"
        },
        "id": "4OmPy1nT6MkJ",
        "outputId": "c8d4fef0-e2aa-48db-c779-5b4dbe4193fb"
      },
      "outputs": [
        {
          "name": "stdout",
          "output_type": "stream",
          "text": [
            "Model: \"sequential_1\"\n",
            "_________________________________________________________________\n",
            " Layer (type)                Output Shape              Param #   \n",
            "=================================================================\n",
            " conv2d_4 (Conv2D)           (None, 224, 224, 32)      896       \n",
            "                                                                 \n",
            " max_pooling2d_4 (MaxPooling  (None, 112, 112, 32)     0         \n",
            " 2D)                                                             \n",
            "                                                                 \n",
            " conv2d_5 (Conv2D)           (None, 112, 112, 64)      18496     \n",
            "                                                                 \n",
            " max_pooling2d_5 (MaxPooling  (None, 56, 56, 64)       0         \n",
            " 2D)                                                             \n",
            "                                                                 \n",
            " conv2d_6 (Conv2D)           (None, 56, 56, 128)       73856     \n",
            "                                                                 \n",
            " max_pooling2d_6 (MaxPooling  (None, 28, 28, 128)      0         \n",
            " 2D)                                                             \n",
            "                                                                 \n",
            " flatten_1 (Flatten)         (None, 100352)            0         \n",
            "                                                                 \n",
            " dense_2 (Dense)             (None, 128)               12845184  \n",
            "                                                                 \n",
            " dense_3 (Dense)             (None, 2)                 258       \n",
            "                                                                 \n",
            "=================================================================\n",
            "Total params: 12,938,690\n",
            "Trainable params: 12,938,690\n",
            "Non-trainable params: 0\n",
            "_________________________________________________________________\n"
          ]
        }
      ],
      "source": [
        "model.summary()"
      ]
    },
    {
      "cell_type": "code",
      "execution_count": null,
      "metadata": {
        "colab": {
          "base_uri": "https://localhost:8080/"
        },
        "id": "-QQzpMUh-5Z8",
        "outputId": "b780eabd-337f-466b-969a-6349594edf4e"
      },
      "outputs": [
        {
          "name": "stdout",
          "output_type": "stream",
          "text": [
            "INFO:tensorflow:Assets written to: fresh/rotten_apple_model.pb/assets\n"
          ]
        }
      ],
      "source": [
        "model.save('fresh_rotten_apple_model')"
      ]
    },
    {
      "cell_type": "code",
      "execution_count": null,
      "metadata": {
        "id": "AN16myef_MCK"
      },
      "outputs": [],
      "source": []
    }
  ],
  "metadata": {
    "accelerator": "GPU",
    "colab": {
      "collapsed_sections": [],
      "name": "Untitled2.ipynb",
      "provenance": []
    },
    "interpreter": {
      "hash": "14a4b0bf2d46876b0e6413157fdbc6d11a4f51ef5ce6e00ce6b449cc7a5b0f55"
    },
    "kernelspec": {
      "display_name": "Python 3.9.6 64-bit",
      "language": "python",
      "name": "python3"
    },
    "language_info": {
      "codemirror_mode": {
        "name": "ipython",
        "version": 3
      },
      "file_extension": ".py",
      "mimetype": "text/x-python",
      "name": "python",
      "nbconvert_exporter": "python",
      "pygments_lexer": "ipython3",
      "version": "3.9.6"
    }
  },
  "nbformat": 4,
  "nbformat_minor": 0
}
